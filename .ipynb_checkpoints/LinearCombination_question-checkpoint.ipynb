{
 "cells": [
  {
   "cell_type": "markdown",
   "metadata": {},
   "source": [
    "### Question\n",
    "Based on the above video, let's define the combination of two new perceptrons as w1*0.4 + w2*0.6 + b. Which of the following values for the weights and the bias would result in the final probability of the point to be 0.88?\n",
    "\n",
    "A - w1:2,w2:6,b:-2\n",
    "B - w1:3,w2:5,b:-2.2\n",
    "C - w1:5,w2:4,b:-3"
   ]
  },
  {
   "cell_type": "code",
   "execution_count": 29,
   "metadata": {},
   "outputs": [
    {
     "name": "stdout",
     "output_type": "stream",
     "text": [
      "0.9168273035060777\n",
      "0.8807970779778823\n",
      "0.8021838885585818\n"
     ]
    }
   ],
   "source": [
    "# Solution\n",
    "import numpy as np\n",
    "\n",
    "sigmoid = lambda x : 1/(1 + np.exp(-x))\n",
    "\n",
    "# print(sigmoid((3*0.4) + (5*0.6) + -2.2))\n",
    "\n",
    "w = [(2,6),(3,5),(5,4)]\n",
    "b = [-2,-2.2,-3]\n",
    "\n",
    "i = 0\n",
    "for w1,w2 in w:\n",
    "        score = (w1*0.4) + (w2*0.6) + b[i]\n",
    "        i += 1\n",
    "        print(sigmoid(score))"
   ]
  },
  {
   "cell_type": "markdown",
   "metadata": {},
   "source": [
    "Answer B"
   ]
  },
  {
   "cell_type": "code",
   "execution_count": null,
   "metadata": {},
   "outputs": [],
   "source": []
  }
 ],
 "metadata": {
  "kernelspec": {
   "display_name": "Python 3",
   "language": "python",
   "name": "python3"
  },
  "language_info": {
   "codemirror_mode": {
    "name": "ipython",
    "version": 3
   },
   "file_extension": ".py",
   "mimetype": "text/x-python",
   "name": "python",
   "nbconvert_exporter": "python",
   "pygments_lexer": "ipython3",
   "version": "3.7.4"
  }
 },
 "nbformat": 4,
 "nbformat_minor": 2
}
